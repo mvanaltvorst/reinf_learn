{
 "cells": [
  {
   "cell_type": "code",
   "execution_count": 1,
   "metadata": {},
   "outputs": [],
   "source": [
    "%load_ext autoreload\n",
    "%autoreload 2"
   ]
  },
  {
   "cell_type": "code",
   "execution_count": 2,
   "metadata": {},
   "outputs": [],
   "source": [
    "from matching_pennies import MatchingPenniesGame\n",
    "from agent import A2CAgent"
   ]
  },
  {
   "cell_type": "code",
   "execution_count": 3,
   "metadata": {},
   "outputs": [
    {
     "name": "stderr",
     "output_type": "stream",
     "text": [
      "/Users/maurits/micromamba/envs/develop/lib/python3.12/site-packages/tqdm/auto.py:21: TqdmWarning: IProgress not found. Please update jupyter and ipywidgets. See https://ipywidgets.readthedocs.io/en/stable/user_install.html\n",
      "  from .autonotebook import tqdm as notebook_tqdm\n"
     ]
    },
    {
     "name": "stdout",
     "output_type": "stream",
     "text": [
      "episode=0\n",
      "episode=1000\n",
      "episode=2000\n",
      "episode=3000\n",
      "episode=4000\n",
      "episode=5000\n",
      "episode=6000\n",
      "episode=7000\n",
      "episode=8000\n",
      "episode=9000\n",
      "episode=10000\n",
      "episode=11000\n",
      "episode=12000\n",
      "episode=13000\n",
      "episode=14000\n"
     ]
    }
   ],
   "source": [
    "import pandas as pd\n",
    "import seaborn as sns\n",
    "import matplotlib.pyplot as plt\n",
    "from itertools import cycle\n",
    "\n",
    "loss_hist = {1: [], 2: []}\n",
    "\n",
    "\n",
    "def train_agents(episodes):\n",
    "    env = MatchingPenniesGame()\n",
    "    agent_a = A2CAgent()\n",
    "    agent_b = A2CAgent()\n",
    "\n",
    "    batch_size = 256\n",
    "\n",
    "    for e in range(episodes):\n",
    "        # done = False\n",
    "        # while not done:\n",
    "        #     current_agent = agent1 if turn == 1 else agent2\n",
    "        #     action = current_agent.act(state)\n",
    "        #     next_state, reward, done = env.step(action)\n",
    "        #     action_hist.append(action)\n",
    "        #     state_hist.append(next_state)\n",
    "        #     reward_hist.append(reward)\n",
    "        #     done_hist.append(done)\n",
    "\n",
    "        #     state = next_state\n",
    "        #     if done:\n",
    "        #         break\n",
    "\n",
    "        #     turn = 3 - turn  # (1 -> 2), (2 -> 1)\n",
    "        action_a = agent_a.act()\n",
    "        action_b = agent_b.act()\n",
    "\n",
    "        reward_a, reward_b = env.step(action_a, action_b)\n",
    "        agent_a.remember(action_a, reward_a)\n",
    "        agent_b.remember(action_b, reward_b)\n",
    "\n",
    "        agent_a.replay(batch_size)\n",
    "        agent_b.replay(batch_size)\n",
    "\n",
    "        if e % 1000 == 0:\n",
    "            print(f\"episode={e}\")\n",
    "\n",
    "    return agent_a, agent_b\n",
    "\n",
    "\n",
    "a1, a2 = train_agents(15000)"
   ]
  },
  {
   "cell_type": "code",
   "execution_count": 4,
   "metadata": {},
   "outputs": [
    {
     "data": {
      "text/plain": [
       "(Parameter containing:\n",
       " tensor([0.2456], requires_grad=True),\n",
       " tensor([0.5327, 0.4673], grad_fn=<SoftmaxBackward0>))"
      ]
     },
     "execution_count": 4,
     "metadata": {},
     "output_type": "execute_result"
    }
   ],
   "source": [
    "a1.model()"
   ]
  },
  {
   "cell_type": "code",
   "execution_count": 5,
   "metadata": {},
   "outputs": [
    {
     "name": "stdout",
     "output_type": "stream",
     "text": [
      "Agent A: 0.53 vs 0.47 (0.25)\n",
      "Agent B: 0.07 vs 0.93 (-0.25)\n"
     ]
    }
   ],
   "source": [
    "value_a, policy_a = a1.model()\n",
    "value_b, policy_b = a2.model()\n",
    "print(f\"Agent A: {policy_a[0]:.2f} vs {policy_a[1]:.2f} ({value_a.item():.2f})\")\n",
    "print(f\"Agent B: {policy_b[0]:.2f} vs {policy_b[1]:.2f} ({value_b.item():.2f})\")"
   ]
  },
  {
   "cell_type": "markdown",
   "metadata": {},
   "source": [
    "Doesn't reach the Nash equillibrium."
   ]
  }
 ],
 "metadata": {
  "kernelspec": {
   "display_name": "Python 3",
   "language": "python",
   "name": "python3"
  },
  "language_info": {
   "codemirror_mode": {
    "name": "ipython",
    "version": 3
   },
   "file_extension": ".py",
   "mimetype": "text/x-python",
   "name": "python",
   "nbconvert_exporter": "python",
   "pygments_lexer": "ipython3",
   "version": "3.12.1"
  }
 },
 "nbformat": 4,
 "nbformat_minor": 2
}
