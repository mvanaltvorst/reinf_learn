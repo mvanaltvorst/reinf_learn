{
 "cells": [
  {
   "cell_type": "code",
   "execution_count": 1,
   "metadata": {},
   "outputs": [],
   "source": [
    "%load_ext autoreload\n",
    "%autoreload 2"
   ]
  },
  {
   "cell_type": "code",
   "execution_count": 2,
   "metadata": {},
   "outputs": [],
   "source": [
    "import random\n",
    "from snake import SnakeGame\n",
    "from agent import A2CAgent"
   ]
  },
  {
   "cell_type": "code",
   "execution_count": 3,
   "metadata": {},
   "outputs": [
    {
     "name": "stderr",
     "output_type": "stream",
     "text": [
      "/Users/maurits/micromamba/envs/develop/lib/python3.12/site-packages/tqdm/auto.py:21: TqdmWarning: IProgress not found. Please update jupyter and ipywidgets. See https://ipywidgets.readthedocs.io/en/stable/user_install.html\n",
      "  from .autonotebook import tqdm as notebook_tqdm\n"
     ]
    },
    {
     "name": "stdout",
     "output_type": "stream",
     "text": [
      "episode=0\n",
      "episode=5000\n",
      "episode=10000\n",
      "episode=15000\n",
      "episode=20000\n",
      "episode=25000\n",
      "episode=30000\n",
      "episode=35000\n",
      "episode=40000\n",
      "episode=45000\n",
      "episode=50000\n",
      "episode=55000\n",
      "episode=60000\n",
      "episode=65000\n",
      "episode=70000\n",
      "episode=75000\n",
      "episode=80000\n",
      "episode=85000\n",
      "episode=90000\n",
      "episode=95000\n",
      "episode=100000\n",
      "episode=105000\n",
      "episode=110000\n",
      "episode=115000\n",
      "episode=120000\n",
      "episode=125000\n",
      "episode=130000\n",
      "episode=135000\n",
      "episode=140000\n",
      "episode=145000\n",
      "episode=150000\n",
      "episode=155000\n",
      "episode=160000\n",
      "episode=165000\n",
      "episode=170000\n",
      "episode=175000\n",
      "episode=180000\n",
      "episode=185000\n",
      "episode=190000\n",
      "episode=195000\n",
      "episode=200000\n",
      "episode=205000\n",
      "episode=210000\n",
      "episode=215000\n",
      "episode=220000\n",
      "episode=225000\n",
      "episode=230000\n",
      "episode=235000\n",
      "episode=240000\n",
      "episode=245000\n",
      "episode=250000\n",
      "episode=255000\n",
      "episode=260000\n",
      "episode=265000\n",
      "episode=270000\n",
      "episode=275000\n",
      "episode=280000\n",
      "episode=285000\n",
      "episode=290000\n",
      "episode=295000\n",
      "episode=300000\n",
      "episode=305000\n",
      "episode=310000\n",
      "episode=315000\n",
      "episode=320000\n",
      "episode=325000\n",
      "episode=330000\n",
      "episode=335000\n",
      "episode=340000\n",
      "episode=345000\n",
      "episode=350000\n",
      "episode=355000\n",
      "episode=360000\n",
      "episode=365000\n",
      "episode=370000\n",
      "episode=375000\n",
      "episode=380000\n",
      "episode=385000\n",
      "episode=390000\n",
      "episode=395000\n",
      "episode=400000\n",
      "episode=405000\n",
      "episode=410000\n",
      "episode=415000\n",
      "episode=420000\n",
      "episode=425000\n",
      "episode=430000\n",
      "episode=435000\n",
      "episode=440000\n",
      "episode=445000\n",
      "episode=450000\n",
      "episode=455000\n",
      "episode=460000\n",
      "episode=465000\n",
      "episode=470000\n",
      "episode=475000\n",
      "episode=480000\n",
      "episode=485000\n",
      "episode=490000\n",
      "episode=495000\n"
     ]
    }
   ],
   "source": [
    "import pandas as pd\n",
    "import seaborn as sns\n",
    "import matplotlib.pyplot as plt\n",
    "from itertools import cycle\n",
    "\n",
    "loss_hist = {1: [], 2: []}\n",
    "\n",
    "\n",
    "def train_agents(episodes):\n",
    "    env = SnakeGame(10, 10, max_steps = 20000)\n",
    "    agent = A2CAgent()\n",
    "\n",
    "    batch_size = 64\n",
    "\n",
    "    rewards = []\n",
    "    for e in range(episodes):\n",
    "        state = env.reset()\n",
    "        acc_reward = 0\n",
    "\n",
    "        done = False\n",
    "        while not done:\n",
    "            action = agent.act(state)\n",
    "            next_state, reward, done = env.step(action)\n",
    "            agent.remember(state, action, reward, next_state, done)\n",
    "            acc_reward += reward\n",
    "\n",
    "            state = next_state\n",
    "            if done:\n",
    "                break\n",
    "\n",
    "        agent.replay(batch_size)\n",
    "        rewards.append(acc_reward)\n",
    "\n",
    "        if e % 5000 == 0:\n",
    "            print(f\"episode={e}\")\n",
    "\n",
    "    return agent, rewards\n",
    "\n",
    "\n",
    "agent, rewards = train_agents(500000)"
   ]
  },
  {
   "cell_type": "code",
   "execution_count": 5,
   "metadata": {},
   "outputs": [
    {
     "name": "stdout",
     "output_type": "stream",
     "text": [
      "Agent saved to agent_10x10.state\n"
     ]
    }
   ],
   "source": [
    "import torch\n",
    "\n",
    "agent.save(\"./agent_10x10.state\")\n",
    "torch.save(rewards, \"./rewards_10x10.state\")"
   ]
  },
  {
   "cell_type": "code",
   "execution_count": null,
   "metadata": {},
   "outputs": [],
   "source": []
  }
 ],
 "metadata": {
  "kernelspec": {
   "display_name": "Python 3",
   "language": "python",
   "name": "python3"
  },
  "language_info": {
   "codemirror_mode": {
    "name": "ipython",
    "version": 3
   },
   "file_extension": ".py",
   "mimetype": "text/x-python",
   "name": "python",
   "nbconvert_exporter": "python",
   "pygments_lexer": "ipython3",
   "version": "3.12.1"
  }
 },
 "nbformat": 4,
 "nbformat_minor": 2
}
