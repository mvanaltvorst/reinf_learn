{
 "cells": [
  {
   "cell_type": "code",
   "execution_count": 1,
   "metadata": {},
   "outputs": [],
   "source": [
    "%load_ext autoreload\n",
    "%autoreload 2"
   ]
  },
  {
   "cell_type": "code",
   "execution_count": 2,
   "metadata": {},
   "outputs": [],
   "source": [
    "import random\n",
    "from snake import SnakeGame\n",
    "from agent import PPOAgent"
   ]
  },
  {
   "cell_type": "code",
   "execution_count": 4,
   "metadata": {},
   "outputs": [],
   "source": [
    "env = SnakeGame(10, 10, max_steps=3000)\n",
    "agent = PPOAgent()"
   ]
  },
  {
   "cell_type": "code",
   "execution_count": 9,
   "metadata": {},
   "outputs": [
    {
     "name": "stdout",
     "output_type": "stream",
     "text": [
      "episode=0\n",
      "episode=100\n",
      "episode=200\n",
      "episode=300\n",
      "episode=400\n",
      "episode=500\n",
      "episode=600\n",
      "episode=700\n",
      "episode=800\n",
      "episode=900\n",
      "episode=1000\n",
      "episode=1100\n",
      "episode=1200\n",
      "episode=1300\n",
      "episode=1400\n",
      "episode=1500\n",
      "episode=1600\n",
      "episode=1700\n",
      "episode=1800\n",
      "episode=1900\n",
      "episode=2000\n",
      "episode=2100\n",
      "episode=2200\n",
      "episode=2300\n",
      "episode=2400\n",
      "episode=2500\n",
      "episode=2600\n",
      "episode=2700\n",
      "episode=2800\n",
      "episode=2900\n",
      "episode=3000\n",
      "episode=3100\n",
      "episode=3200\n",
      "episode=3300\n",
      "episode=3400\n",
      "episode=3500\n",
      "episode=3600\n",
      "episode=3700\n",
      "episode=3800\n",
      "episode=3900\n",
      "episode=4000\n",
      "episode=4100\n",
      "episode=4200\n",
      "episode=4300\n",
      "episode=4400\n",
      "episode=4500\n",
      "episode=4600\n",
      "episode=4700\n",
      "episode=4800\n",
      "episode=4900\n",
      "episode=5000\n",
      "episode=5100\n",
      "episode=5200\n",
      "episode=5300\n",
      "episode=5400\n",
      "episode=5500\n",
      "episode=5600\n",
      "episode=5700\n",
      "episode=5800\n",
      "episode=5900\n",
      "episode=6000\n",
      "episode=6100\n",
      "episode=6200\n",
      "episode=6300\n",
      "episode=6400\n",
      "episode=6500\n",
      "episode=6600\n",
      "episode=6700\n",
      "episode=6800\n",
      "episode=6900\n"
     ]
    }
   ],
   "source": [
    "import pandas as pd\n",
    "import seaborn as sns\n",
    "import matplotlib.pyplot as plt\n",
    "from itertools import cycle\n",
    "\n",
    "loss_hist = {1: [], 2: []}\n",
    "\n",
    "\n",
    "EPISODES = 7000\n",
    "\n",
    "rewards = []\n",
    "for e in range(EPISODES):\n",
    "    state = env.reset()\n",
    "    acc_reward = 0\n",
    "\n",
    "    done = False\n",
    "    while not done:\n",
    "        action, prob, val = agent.act(state)\n",
    "        next_state, reward, done = env.step(action)\n",
    "        agent.remember(state, action, prob, val, reward, done)\n",
    "        acc_reward += reward\n",
    "\n",
    "        state = next_state\n",
    "\n",
    "    agent.learn()\n",
    "    rewards.append(acc_reward)\n",
    "\n",
    "    if e % 100 == 0:\n",
    "        print(f\"episode={e}\")\n",
    "\n"
   ]
  },
  {
   "cell_type": "code",
   "execution_count": 10,
   "metadata": {},
   "outputs": [
    {
     "name": "stdout",
     "output_type": "stream",
     "text": [
      "Agent saved to agent_10x10.state\n"
     ]
    }
   ],
   "source": [
    "import torch\n",
    "\n",
    "agent.save(\"./agent_10x10.state\")\n",
    "torch.save(rewards, \"./rewards_10x10.state\")"
   ]
  },
  {
   "cell_type": "code",
   "execution_count": null,
   "metadata": {},
   "outputs": [],
   "source": []
  }
 ],
 "metadata": {
  "kernelspec": {
   "display_name": "Python 3",
   "language": "python",
   "name": "python3"
  },
  "language_info": {
   "codemirror_mode": {
    "name": "ipython",
    "version": 3
   },
   "file_extension": ".py",
   "mimetype": "text/x-python",
   "name": "python",
   "nbconvert_exporter": "python",
   "pygments_lexer": "ipython3",
   "version": "3.12.1"
  }
 },
 "nbformat": 4,
 "nbformat_minor": 2
}
