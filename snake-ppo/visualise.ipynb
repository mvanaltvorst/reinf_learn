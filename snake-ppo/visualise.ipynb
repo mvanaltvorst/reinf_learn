{
 "cells": [
  {
   "cell_type": "code",
   "execution_count": 1,
   "metadata": {},
   "outputs": [
    {
     "name": "stderr",
     "output_type": "stream",
     "text": [
      "/Users/maurits/micromamba/envs/develop/lib/python3.12/site-packages/tqdm/auto.py:21: TqdmWarning: IProgress not found. Please update jupyter and ipywidgets. See https://ipywidgets.readthedocs.io/en/stable/user_install.html\n",
      "  from .autonotebook import tqdm as notebook_tqdm\n"
     ]
    },
    {
     "name": "stdout",
     "output_type": "stream",
     "text": [
      "Agent loaded from ./agent_10x10.state\n"
     ]
    },
    {
     "data": {
      "text/plain": [
       "<agent.PPOAgent at 0x14066bd70>"
      ]
     },
     "execution_count": 1,
     "metadata": {},
     "output_type": "execute_result"
    }
   ],
   "source": [
    "from snake import SnakeGame\n",
    "from agent import PPOAgent\n",
    "import numpy as np\n",
    "import torch\n",
    "\n",
    "agent = PPOAgent.load(\"./agent_10x10.state\")\n",
    "rewards = np.array(torch.load(\"./rewards_10x10.state\"))\n",
    "agent"
   ]
  },
  {
   "cell_type": "code",
   "execution_count": 2,
   "metadata": {},
   "outputs": [
    {
     "data": {
      "image/png": "[encoded data removed]",
      "text/plain": [
       "<Figure size 500x300 with 1 Axes>"
      ]
     },
     "metadata": {},
     "output_type": "display_data"
    }
   ],
   "source": [
    "import seaborn as sns\n",
    "import statsmodels.api as sm\n",
    "import matplotlib.pyplot as plt\n",
    "\n",
    "\n",
    "lowess = sm.nonparametric.lowess\n",
    "sampled = np.random.choice(len(rewards), 1000)\n",
    "z = lowess(rewards[sampled], sampled)\n",
    "\n",
    "sns.lineplot(rewards)\n",
    "sns.lineplot(x=z[:, 0], y=z[:, 1], label=\"LOWESS smoothed\")\n",
    "plt.xlabel(\"Episode\")\n",
    "plt.ylabel(\"Reward\")\n",
    "plt.title(\"Reward per episode\")\n",
    "plt.gcf().set_size_inches(5, 3)\n",
    "plt.savefig(\"./rewards_episodes.svg\")"
   ]
  },
  {
   "cell_type": "code",
   "execution_count": 3,
   "metadata": {},
   "outputs": [
    {
     "name": "stdout",
     "output_type": "stream",
     "text": [
      "0\n",
      "down\n",
      "************\n",
      "*........0.*\n",
      "*..........*\n",
      "*..........*\n",
      "*..........*\n",
      "*..........*\n",
      "*..........*\n",
      "*..........*\n",
      "*..........*\n",
      "*.H........*\n",
      "*..........*\n",
      "************\n",
      "\n",
      "1\n",
      "left\n",
      "************\n",
      "*........0.*\n",
      "*..........*\n",
      "*..........*\n",
      "*..........*\n",
      "*..........*\n",
      "*..........*\n",
      "*..........*\n",
      "*..........*\n",
      "*H.........*\n",
      "*..........*\n",
      "************\n",
      "\n",
      "2\n",
      "down\n",
      "************\n",
      "*........0.*\n",
      "*..........*\n",
      "*..........*\n",
      "*..........*\n",
      "*..........*\n",
      "*..........*\n",
      "*..........*\n",
      "*..........*\n",
      "*..........*\n",
      "*H.........*\n",
      "************\n",
      "\n",
      "3\n",
      "down\n",
      "DIED\n"
     ]
    },
    {
     "name": "stderr",
     "output_type": "stream",
     "text": [
      "/Users/maurits/Documents/RL/Cartpole/snake-ppo/agent.py:53: UserWarning: To copy construct from a tensor, it is recommended to use sourceTensor.clone().detach() or sourceTensor.clone().detach().requires_grad_(True), rather than torch.tensor(sourceTensor).\n",
      "  state = torch.tensor(state, dtype=torch.float32)\n"
     ]
    }
   ],
   "source": [
    "np.random.seed(11)\n",
    "torch.manual_seed(8)\n",
    "\n",
    "env = SnakeGame(10, 10, max_steps = 3000)\n",
    "\n",
    "state = env.reset()\n",
    "\n",
    "done = False\n",
    "while not done:\n",
    "    action, prob, val = agent.act(state)\n",
    "    print(env.steps)\n",
    "    print({0: \"up\", 1: \"right\", 2: \"down\", 3: \"left\"}[action])\n",
    "    next_state, reward, done = env.step(action)\n",
    "\n",
    "    state = next_state\n",
    "    if done:\n",
    "        print(\"DIED\")\n",
    "        break\n",
    "\n",
    "    env.render()"
   ]
  },
  {
   "cell_type": "code",
   "execution_count": 4,
   "metadata": {},
   "outputs": [
    {
     "name": "stderr",
     "output_type": "stream",
     "text": [
      "/var/folders/3b/p0qfxjvs45l8nq2rnktrrymc0000gn/T/ipykernel_62701/502908839.py:101: UserWarning: To copy construct from a tensor, it is recommended to use sourceTensor.clone().detach() or sourceTensor.clone().detach().requires_grad_(True), rather than torch.tensor(sourceTensor).\n",
      "  state_tensor = torch.tensor(state, dtype=torch.float32).unsqueeze(0)\n",
      "/var/folders/3b/p0qfxjvs45l8nq2rnktrrymc0000gn/T/ipykernel_62701/502908839.py:87: MatplotlibDeprecationWarning: The tostring_rgb function was deprecated in Matplotlib 3.8 and will be removed two minor releases later. Use buffer_rgba instead.\n",
      "  image = np.frombuffer(fig.canvas.tostring_rgb(), dtype=\"uint8\")\n"
     ]
    },
    {
     "name": "stdout",
     "output_type": "stream",
     "text": [
      "Agent loaded from ./agent_10x10.state\n",
      "GIF saved to snake_game_visualisation.gif\n"
     ]
    }
   ],
   "source": [
    "import matplotlib.pyplot as plt\n",
    "import matplotlib.patches as patches\n",
    "from matplotlib.colors import LinearSegmentedColormap\n",
    "import imageio\n",
    "\n",
    "\n",
    "def create_frame(env, state_value, action_probs, step, critic_values):\n",
    "    fig, (ax1, ax2, ax3) = plt.subplots(1, 3, figsize=(12, 4))\n",
    "\n",
    "    # Game board visualization\n",
    "    ax1.clear()\n",
    "    ax1.set_xlim(0, env.width)\n",
    "    ax1.set_ylim(0, env.height)\n",
    "    ax1.set_aspect(\"equal\")\n",
    "    ax1.axis(\"off\")\n",
    "\n",
    "    # Draw border\n",
    "    border = patches.Rectangle(\n",
    "        (0, 0), env.width, env.height, linewidth=2, edgecolor=\"black\", facecolor=\"none\"\n",
    "    )\n",
    "    ax1.add_patch(border)\n",
    "\n",
    "    # Draw snake\n",
    "    for x, y in env.tail.queue:\n",
    "        snake_part = patches.Rectangle((x, y), 1, 1, facecolor=\"green\")\n",
    "        ax1.add_patch(snake_part)\n",
    "\n",
    "    # Draw snake head\n",
    "    head_x, head_y = env.tail.queue[-1]\n",
    "    head = patches.Rectangle((head_x, head_y), 1, 1, facecolor=\"darkgreen\")\n",
    "    ax1.add_patch(head)\n",
    "\n",
    "    # Draw apple\n",
    "    apple = patches.Circle(\n",
    "        (env.apple_x + 0.5, env.apple_y + 0.5), 0.4, facecolor=\"indianred\"\n",
    "    )\n",
    "    ax1.add_patch(apple)\n",
    "\n",
    "    ax1.set_title(f\"Step: {step}, Score: {env.get_score()}\")\n",
    "\n",
    "    # Critic value plot\n",
    "    ax2.clear()\n",
    "    ax2.plot(critic_values, color=\"blue\")\n",
    "    ax2.set_title(\"Critic Value over Time\")\n",
    "    ax2.set_xlabel(\"Step\")\n",
    "    ax2.set_ylabel(\"Critic Value\")\n",
    "    ax2.scatter(step, state_value, color=\"red\", s=100, zorder=5)\n",
    "\n",
    "    ax3.clear()\n",
    "    ax3.set_xlim(0, 1)\n",
    "    ax3.set_ylim(0, 1)\n",
    "    ax3.axis(\"off\")\n",
    "\n",
    "    cmap = LinearSegmentedColormap.from_list(\"\", [\"lightblue\", \"red\"])\n",
    "\n",
    "    # Draw action probability circles\n",
    "    circle_radius = 0.15\n",
    "    circle_positions = [\n",
    "        (0.5, 0.8),\n",
    "        (0.8, 0.5),\n",
    "        (0.5, 0.2),\n",
    "        (0.2, 0.5),\n",
    "    ]  # up, right, down, left\n",
    "    action_names = [\"up\", \"right\", \"down\", \"left\"]\n",
    "\n",
    "    for (x, y), prob, name in zip(circle_positions, action_probs, action_names):\n",
    "        color = cmap(prob)\n",
    "        circle = patches.Circle(\n",
    "            (x, y), circle_radius, facecolor=color, edgecolor=\"black\"\n",
    "        )\n",
    "        ax3.add_patch(circle)\n",
    "        ax3.text(\n",
    "            x,\n",
    "            y,\n",
    "            f\"{name}\\n{prob:.2f}\",\n",
    "            ha=\"center\",\n",
    "            va=\"center\",\n",
    "            color=\"black\" if prob < 0.5 else \"white\",\n",
    "        )\n",
    "\n",
    "    ax3.set_title(\"Action Probabilities\")\n",
    "\n",
    "    plt.tight_layout()\n",
    "\n",
    "    # Convert plot to image\n",
    "    fig.canvas.draw()\n",
    "    image = np.frombuffer(fig.canvas.tostring_rgb(), dtype=\"uint8\")\n",
    "    image = image.reshape(fig.canvas.get_width_height()[::-1] + (3,))\n",
    "\n",
    "    plt.close(fig)\n",
    "    return image\n",
    "\n",
    "\n",
    "def generate_gif(env, agent, output_file, max_steps=500):\n",
    "    state = env.reset()\n",
    "    frames = []\n",
    "    step = 0\n",
    "    critic_values = []\n",
    "\n",
    "    while step < max_steps:\n",
    "        state_tensor = torch.tensor(state, dtype=torch.float32).unsqueeze(0)\n",
    "\n",
    "        action_probs = agent.actor(state_tensor)\n",
    "        # get probs from categorical dist\n",
    "        action_probs = action_probs.probs[0].detach().numpy()\n",
    "\n",
    "\n",
    "        action, state_value, _ = agent.act(state)\n",
    "        critic_values.append(state_value)\n",
    "\n",
    "        next_state, _, done = env.step(action)\n",
    "\n",
    "        frame = create_frame(env, state_value, action_probs, step, critic_values)\n",
    "        frames.append(frame)\n",
    "\n",
    "        if done:\n",
    "            break\n",
    "\n",
    "        state = next_state\n",
    "        step += 1\n",
    "\n",
    "    # Repeat the final frame 30 times (3 seconds at 10 fps)\n",
    "    final_frame = frames[-1]\n",
    "    frames.extend([final_frame] * 30)\n",
    "\n",
    "    imageio.mimsave(output_file, frames, fps=10, loop=1000)\n",
    "    print(f\"GIF saved to {output_file}\")\n",
    "\n",
    "\n",
    "agent = PPOAgent.load(\"./agent_10x10.state\")\n",
    "\n",
    "np.random.seed(11)\n",
    "torch.manual_seed(8)\n",
    "env = SnakeGame(10, 10, max_steps=3000)\n",
    "\n",
    "# Generate and save the GIF\n",
    "generate_gif(env, agent, \"snake_game_visualisation.gif\", max_steps=500)"
   ]
  },
  {
   "cell_type": "code",
   "execution_count": null,
   "metadata": {},
   "outputs": [],
   "source": []
  }
 ],
 "metadata": {
  "kernelspec": {
   "display_name": "Python 3",
   "language": "python",
   "name": "python3"
  },
  "language_info": {
   "codemirror_mode": {
    "name": "ipython",
    "version": 3
   },
   "file_extension": ".py",
   "mimetype": "text/x-python",
   "name": "python",
   "nbconvert_exporter": "python",
   "pygments_lexer": "ipython3",
   "version": "3.12.1"
  }
 },
 "nbformat": 4,
 "nbformat_minor": 2
}
